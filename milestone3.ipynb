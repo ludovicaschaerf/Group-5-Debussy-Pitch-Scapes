{
 "cells": [
  {
   "cell_type": "markdown",
   "metadata": {},
   "source": [
    "# Milestone 3: Results\n",
    "### On Tonal ambiguity and harmonic structure in Debussy’s piano music\n",
    "#### By Ludovica Schaerf, Sabrina Laneve , Yuanhui Lin, Raphael Levier.\n",
    "\n",
    "The notebook is articulated as follows:\n",
    "1. [Precision of Research Question](#Research-Question)\n",
    "2. [Refinement of Methods](#Methods)\n",
    "3. [Presentation of final results](#Final-Results)\n",
    "4. [Outlook on final interpretation](#Interpretation)"
   ]
  },
  {
   "cell_type": "markdown",
   "metadata": {},
   "source": [
    "## Research Question\n",
    "\n",
    "\n",
    "Precision of Research Question:\n",
    "\n",
    "State the final version of your research question as you understand it now.\n",
    "\n",
    "Make all assumptions and hypotheses explicit.\n",
    "\n",
    "In case Milestone 2 did not include the final data representation that you are analyzing, present the representation you finally used and the necessary steps to get to it."
   ]
  },
  {
   "cell_type": "code",
   "execution_count": null,
   "metadata": {},
   "outputs": [],
   "source": []
  },
  {
   "cell_type": "markdown",
   "metadata": {},
   "source": [
    "## Methods\n",
    "\n",
    "Refinement of Methods\n",
    "\n",
    "How did you deal with the problems you mentioned in Milestone 3?\n",
    "\n",
    "Which methods did you use to obtain the final results? Provide self-contained explanations and make sure to cite relevant literature where appropriate.\n",
    "\n",
    "Explain your core calculations using equations.\n",
    "\n",
    "Do not describe all the methods you tried out but only those that lead to the results: the final analysis is not an exploratory analysis anymore.\n",
    "\n",
    "Specify any adjustments you made to pre-existing methods."
   ]
  },
  {
   "cell_type": "code",
   "execution_count": null,
   "metadata": {},
   "outputs": [],
   "source": []
  },
  {
   "cell_type": "markdown",
   "metadata": {},
   "source": [
    "## Final Results\n",
    "\n",
    "Presentation of final results\n",
    "\n",
    "Present your results in relation to your research question.\n",
    "\n",
    "Present them in a logical order that does not have to be the order in which you achieved them."
   ]
  },
  {
   "cell_type": "code",
   "execution_count": 3,
   "metadata": {},
   "outputs": [
    {
     "name": "stdout",
     "output_type": "stream",
     "text": [
      "score for pentatonic recognition 0.7647058823529411\n",
      "score for diatonic recognition 0.631578947368421\n"
     ]
    }
   ],
   "source": [
    "# Pentatonic vs Diatonic prediction\n",
    "\n",
    "# method 1\n",
    "from wavescapes import *\n",
    "from glob import glob\n",
    "import numpy as np\n",
    "from predict_penta_dia import *\n",
    "\n",
    "penta_reductions = glob('./reductions/penta/*.mid')\n",
    "dia_reductions = glob('./reductions/diatonic/*.mid')\n",
    "\n",
    "tot = 0\n",
    "correct = 0\n",
    "for penta in penta_reductions:\n",
    "    _,pred,_ = predict_penta_dia(penta, aw_size=1)\n",
    "    tot += 1\n",
    "    if pred == 'pentatonic scale':\n",
    "        correct += 1\n",
    "\n",
    "print('score for pentatonic recognition', correct/tot)\n",
    "\n",
    "tot = 0\n",
    "correct = 0\n",
    "for dia in dia_reductions:\n",
    "    _,pred,_ = predict_penta_dia(dia,aw_size=1)\n",
    "    tot += 1\n",
    "    if pred == 'diatonic scale':\n",
    "        correct += 1\n",
    "\n",
    "print('score for diatonic recognition', correct/tot)"
   ]
  },
  {
   "cell_type": "code",
   "execution_count": 4,
   "metadata": {},
   "outputs": [
    {
     "name": "stdout",
     "output_type": "stream",
     "text": [
      "score for pentatonic recognition 0.7647058823529411\n",
      "score for diatonic recognition 0.5789473684210527\n"
     ]
    }
   ],
   "source": [
    "# method 2\n",
    "from predict_penta_dia_2 import *\n",
    "\n",
    "tot = 0\n",
    "correct = 0\n",
    "for penta in penta_reductions:\n",
    "    pred,_ = predict_penta_dia_2(penta,aw_size=1)\n",
    "    tot += 1\n",
    "    if pred == 'Pentatonic':\n",
    "        correct += 1\n",
    "\n",
    "print('score for pentatonic recognition', correct/tot)\n",
    "\n",
    "tot = 0\n",
    "correct = 0\n",
    "for dia in dia_reductions:\n",
    "    pred,_ = predict_penta_dia_2(dia,aw_size=1)\n",
    "    tot += 1\n",
    "    if pred == 'Diatonic':\n",
    "        correct += 1\n",
    "\n",
    "print('score for diatonic recognition', correct/tot)"
   ]
  },
  {
   "cell_type": "code",
   "execution_count": null,
   "metadata": {
    "scrolled": true
   },
   "outputs": [
    {
     "name": "stdout",
     "output_type": "stream",
     "text": [
      "score: 1890Debussy_-_Suite_Bergamasque_-_I._Prelude.mid\n",
      "method 1 prediction diatonic scale\n",
      "method 2 prediction Diatonic\n",
      "score: 1890Debussy_-_Suite_Bergamasque_-_II._Menuet.mid\n",
      "method 1 prediction diatonic scale\n",
      "method 2 prediction Diatonic\n",
      "score: 1890Debussy_-_Suite_Bergamasque_-_III._Clair_de_Lune.mid\n",
      "method 1 prediction diatonic scale\n",
      "method 2 prediction Pentatonic\n",
      "score: 1890Debussy_-_Suite_Bergamasque_-_VI._Passepied.mid\n",
      "method 1 prediction diatonic scale\n",
      "method 2 prediction Pentatonic\n",
      "score: 1891deuxieme_arabesque.mid\n",
      "could not read score\n",
      "score: 1891premiere_arabesque.mid\n",
      "method 1 prediction diatonic scale\n",
      "method 2 prediction Diatonic\n",
      "score: 1903debussy_estampes_1_(c)galimberti.mid\n",
      "method 1 prediction diatonic scale\n",
      "method 2 prediction Pentatonic\n",
      "score: 1903estamp2_La soirée_dans_Grenade.mid\n",
      "method 1 prediction diatonic scale\n",
      "method 2 prediction Pentatonic\n",
      "score: 1903estamp3_Jardins_sous_la_pluie.mid\n",
      "method 1 prediction diatonic scale\n",
      "method 2 prediction Pentatonic\n",
      "score: 1905estamp1_Pagodes.mid\n",
      "method 1 prediction pentatonic scale\n",
      "method 2 prediction Pentatonic\n",
      "score: 1905images_1_1_(c)oguri.mid\n",
      "method 1 prediction diatonic scale\n",
      "method 2 prediction Diatonic\n",
      "score: 1905images_1_2_(c)oguri.mid\n",
      "method 1 prediction diatonic scale\n",
      "method 2 prediction Pentatonic\n",
      "score: 1905images_1_3_(c)oguri (1).mid\n",
      "method 1 prediction diatonic scale\n",
      "method 2 prediction Diatonic\n",
      "score: 1907images_2_1_(c)galimberti.mid\n",
      "score: 1907images_2_2_(c)galimberti.mid\n",
      "method 1 prediction diatonic scale\n",
      "method 2 prediction Pentatonic\n",
      "score: 1907images_2_3_(c)galimberti.mid\n",
      "score: 1908childrens_corner_1_(c)oguri.mid\n",
      "method 1 prediction diatonic scale\n"
     ]
    }
   ],
   "source": [
    "scores = glob('./scores/*.mid')\n",
    "\n",
    "dic_scores = {}\n",
    "for score in scores:\n",
    "    print('score:', score.split('\\\\')[-1])\n",
    "    try:\n",
    "        coeff, pred, _ = predict_penta_dia(score, aw_size=10)\n",
    "        if coeff == 5:\n",
    "            print('method 1 prediction', pred)\n",
    "            pred2,_ = predict_penta_dia_2(score)\n",
    "            print('method 2 prediction', pred2)\n",
    "            if pred == 'diatonic scale' and pred2 == 'Diatonic':\n",
    "                dic_scores[score] = pred\n",
    "            if pred == 'pentatonic scale' and pred2 == 'Pentatonic':\n",
    "                dic_scores[score] = pred\n",
    "    except:\n",
    "        print('could not read score')"
   ]
  },
  {
   "cell_type": "code",
   "execution_count": null,
   "metadata": {
    "scrolled": true
   },
   "outputs": [],
   "source": [
    "dic_scores"
   ]
  },
  {
   "cell_type": "code",
   "execution_count": null,
   "metadata": {
    "scrolled": true
   },
   "outputs": [],
   "source": [
    "# entropy\n",
    "\n",
    "from entropy_substructures import *\n",
    "\n",
    "entropies_05 = {}\n",
    "for score in scores:\n",
    "    try:\n",
    "        entropies_05[score] = compute_magnitude_entropy(score, ver_ratio=0.05)\n",
    "    except:\n",
    "        print('could not load file')\n",
    "        \n",
    "print('finished magnitude entropies')\n",
    "\n",
    "magnitudes = {}\n",
    "for score in scores:\n",
    "    try:\n",
    "        magnitudes[score] = compute_magnitudes_5(score, ver_ratio=0.05)\n",
    "    except:\n",
    "        print('could not load file')\n",
    "                    \n",
    "print('finished magnitude of 5th coeffient')\n",
    "\n",
    "peaks = {}\n",
    "for score in scores:\n",
    "    try:\n",
    "        peaks[score] = compute_peaks(score, ver_ratio=0.05)\n",
    "    except:\n",
    "        print('could not load file')\n",
    "        \n",
    "print('finished peaks computation')\n",
    "        \n",
    "entropies_phase = {}\n",
    "for score in scores:\n",
    "    try:\n",
    "        entropies_phase[score] = compute_entropy_phase(score, ver_ratio=0.1)\n",
    "    except:\n",
    "        print('could not load file')\n",
    "        \n",
    "print('finished phase entropies')"
   ]
  },
  {
   "cell_type": "code",
   "execution_count": null,
   "metadata": {},
   "outputs": [],
   "source": [
    "x = [name.split('\\\\')[-1][:4]+'_'+str(i) for i,name in enumerate(entropies_05.keys())]\n",
    "\n",
    "y = []\n",
    "\n",
    "for i in range(6):\n",
    "    y.append([val[i] for val in entropies_05.values()])\n",
    " \n",
    "\n",
    "plt.stackplot(x, y[0],y[1], y[2],y[3],y[4],y[5], labels=['1','2','3','4','5','6'])\n",
    "plt.xticks(rotation=90)\n",
    "plt.title('Entropy of the magnitudes of the 6 coefficients at the bottom level')\n",
    "plt.legend(loc='upper right')"
   ]
  },
  {
   "cell_type": "code",
   "execution_count": null,
   "metadata": {},
   "outputs": [],
   "source": [
    "x = [name.split('\\\\')[-1][:4]+'_'+str(i) for i,name in enumerate(entropies_phase.keys())]\n",
    "\n",
    "y = []\n",
    "\n",
    "for i in range(6):\n",
    "    y.append([val[i] for val in entropies_phase.values()])\n",
    " \n",
    "\n",
    "plt.stackplot(x, y[0],y[1], y[2],y[3],y[4],y[5], labels=['1','2','3','4','5','6'])\n",
    "plt.xticks(rotation=90)\n",
    "plt.title('Entropy of the phases of the 6 coefficients at the bottom level')\n",
    "plt.legend(loc='upper right')"
   ]
  },
  {
   "cell_type": "code",
   "execution_count": null,
   "metadata": {},
   "outputs": [],
   "source": [
    "ax = plt.plot(list(magnitudes.values())[0])\n",
    "plt.plot(list(magnitudes.values())[-1], ax=ax)"
   ]
  },
  {
   "cell_type": "code",
   "execution_count": null,
   "metadata": {},
   "outputs": [],
   "source": [
    "plt.scatter([name.split('\\\\')[-1][:4] for name in peaks.keys()], [np.array(val).sum() for val in peaks.values()])\n",
    "plt.xticks(rotation=90)\n",
    "plt.title('Number of peaks per piece over the 6 coefficients')"
   ]
  },
  {
   "cell_type": "markdown",
   "metadata": {},
   "source": [
    "## Interpretation\n",
    "\n",
    "Outlook on final interpretation\n",
    "\n",
    "Interpreting your results is the final step that you will do in preparing Milestone 4 (your presentations). Please end your submission by giving a first,preliminary outlook on this final step: what aspects of your results do you find interesting with respect to your hypotheses and previous literature? What do you think might be the main points to elaborate upon in the discussion?"
   ]
  },
  {
   "cell_type": "code",
   "execution_count": null,
   "metadata": {},
   "outputs": [],
   "source": []
  },
  {
   "cell_type": "markdown",
   "metadata": {},
   "source": [
    "- General Points\n",
    "\n",
    "The notebook should be complete and self-contained.\n",
    "\n",
    "All processing and analysis steps must be explained.\n",
    "\n",
    "Someone else should be able to reproduce the results based on your explanations without seeing the code.\n",
    "\n",
    "Unused code and analyses should not be included.\n",
    "\n",
    "- Useful Utilities\n",
    "\n",
    "This notebook extension lets you easily create a Table of Contents and automatically deals with your heading numbering (not available for Jupyter Lab, only Notebook): https://jupyter-contrib-nbextensions.readthedocs.io/en/latest/nbextensions/toc2/README.html \n",
    "\n",
    "Display the notebook online including JavaScript (e.g., in interactive plots), you can use https://nbviewer.jupyter.org/\n",
    "\n",
    "If you’re interested, you can use this code in your notebook to toggle the display of source code on and off: https://stackoverflow.com/questions/27934885/how-to-hide-code-from-cells-in-ipython-notebook-visualized-with-nbviewer"
   ]
  },
  {
   "cell_type": "code",
   "execution_count": null,
   "metadata": {},
   "outputs": [],
   "source": []
  }
 ],
 "metadata": {
  "kernelspec": {
   "display_name": "Python 3",
   "language": "python",
   "name": "python3"
  }
 },
 "nbformat": 4,
 "nbformat_minor": 4
}
