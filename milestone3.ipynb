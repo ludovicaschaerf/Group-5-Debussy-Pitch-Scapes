{
 "cells": [
  {
   "cell_type": "markdown",
   "metadata": {},
   "source": [
    "# Milestone 3: Results\n",
    "### On Tonal ambiguity and harmonic structure in Debussy’s piano music\n",
    "#### By Ludovica Schaerf, Sabrina Laneve , Yuanhui Lin, Raphael Levier.\n",
    "\n",
    "The notebook is articulated as follows:\n",
    "1. [Precision of Research Question](#Research-Question)\n",
    "2. [Refinement of Methods](#Methods)\n",
    "3. [Presentation of final results](#Final-Results)\n",
    "4. [Outlook on final interpretation](#Interpretation)"
   ]
  },
  {
   "cell_type": "markdown",
   "metadata": {},
   "source": [
    "## Research Question\n",
    "\n",
    "\n",
    "Precision of Research Question:\n",
    "\n",
    "State the final version of your research question as you understand it now.\n",
    "\n",
    "Make all assumptions and hypotheses explicit.\n",
    "\n",
    "In case Milestone 2 did not include the final data representation that you are analyzing, present the representation you finally used and the necessary steps to get to it."
   ]
  },
  {
   "cell_type": "code",
   "execution_count": null,
   "metadata": {},
   "outputs": [],
   "source": []
  },
  {
   "cell_type": "markdown",
   "metadata": {},
   "source": [
    "## Methods\n",
    "\n",
    "Refinement of Methods\n",
    "\n",
    "How did you deal with the problems you mentioned in Milestone 3?\n",
    "\n",
    "Which methods did you use to obtain the final results? Provide self-contained explanations and make sure to cite relevant literature where appropriate.\n",
    "\n",
    "Explain your core calculations using equations.\n",
    "\n",
    "Do not describe all the methods you tried out but only those that lead to the results: the final analysis is not an exploratory analysis anymore.\n",
    "\n",
    "Specify any adjustments you made to pre-existing methods."
   ]
  },
  {
   "cell_type": "code",
   "execution_count": null,
   "metadata": {},
   "outputs": [],
   "source": []
  },
  {
   "cell_type": "markdown",
   "metadata": {},
   "source": [
    "## Final Results\n",
    "\n",
    "Presentation of final results\n",
    "\n",
    "Present your results in relation to your research question.\n",
    "\n",
    "Present them in a logical order that does not have to be the order in which you achieved them."
   ]
  },
  {
   "cell_type": "code",
   "execution_count": 2,
   "metadata": {},
   "outputs": [
    {
     "name": "stdout",
     "output_type": "stream",
     "text": [
      "score for pentatonic recognition 0.7647058823529411\n",
      "score for diatonic recognition 0.631578947368421\n"
     ]
    }
   ],
   "source": [
    "# Pentatonic vs Diatonic prediction\n",
    "\n",
    "# method 1\n",
    "from wavescapes import *\n",
    "from glob import glob\n",
    "import numpy as np\n",
    "from predict_penta_dia import *\n",
    "\n",
    "penta_reductions = glob('./reductions/penta/*.mid')\n",
    "dia_reductions = glob('./reductions/diatonic/*.mid')\n",
    "\n",
    "tot = 0\n",
    "correct = 0\n",
    "for penta in penta_reductions:\n",
    "    _,pred,_ = predict_penta_dia(penta, aw_size=1)\n",
    "    tot += 1\n",
    "    if pred == 'pentatonic scale':\n",
    "        correct += 1\n",
    "\n",
    "print('score for pentatonic recognition', correct/tot)\n",
    "\n",
    "tot = 0\n",
    "correct = 0\n",
    "for dia in dia_reductions:\n",
    "    _,pred,_ = predict_penta_dia(dia,aw_size=1)\n",
    "    tot += 1\n",
    "    if pred == 'diatonic scale':\n",
    "        correct += 1\n",
    "\n",
    "print('score for diatonic recognition', correct/tot)"
   ]
  },
  {
   "cell_type": "code",
   "execution_count": 3,
   "metadata": {},
   "outputs": [
    {
     "name": "stdout",
     "output_type": "stream",
     "text": [
      "score for pentatonic recognition 0.7647058823529411\n",
      "score for diatonic recognition 0.5789473684210527\n"
     ]
    }
   ],
   "source": [
    "# method 2\n",
    "from predict_penta_dia_2 import *\n",
    "\n",
    "tot = 0\n",
    "correct = 0\n",
    "for penta in penta_reductions:\n",
    "    pred,_ = predict_penta_dia_2(penta,aw_size=1)\n",
    "    tot += 1\n",
    "    if pred == 'Pentatonic':\n",
    "        correct += 1\n",
    "\n",
    "print('score for pentatonic recognition', correct/tot)\n",
    "\n",
    "tot = 0\n",
    "correct = 0\n",
    "for dia in dia_reductions:\n",
    "    pred,_ = predict_penta_dia_2(dia,aw_size=1)\n",
    "    tot += 1\n",
    "    if pred == 'Diatonic':\n",
    "        correct += 1\n",
    "\n",
    "print('score for diatonic recognition', correct/tot)"
   ]
  },
  {
   "cell_type": "code",
   "execution_count": 15,
   "metadata": {
    "scrolled": true
   },
   "outputs": [
    {
     "name": "stdout",
     "output_type": "stream",
     "text": [
      "score: 1890Debussy_-_Suite_Bergamasque_-_I._Prelude.mid\n",
      "method 1 prediction diatonic scale\n",
      "method 2 prediction Diatonic\n",
      "score: 1890Debussy_-_Suite_Bergamasque_-_II._Menuet.mid\n",
      "method 1 prediction diatonic scale\n",
      "method 2 prediction Diatonic\n",
      "score: 1890Debussy_-_Suite_Bergamasque_-_III._Clair_de_Lune.mid\n",
      "method 1 prediction diatonic scale\n",
      "method 2 prediction Pentatonic\n",
      "score: 1890Debussy_-_Suite_Bergamasque_-_VI._Passepied.mid\n",
      "method 1 prediction diatonic scale\n",
      "method 2 prediction Pentatonic\n",
      "score: 1891deuxieme_arabesque.mid\n",
      "could not read score\n",
      "score: 1891premiere_arabesque.mid\n",
      "method 1 prediction diatonic scale\n",
      "method 2 prediction Diatonic\n",
      "score: 1903debussy_estampes_1_(c)galimberti.mid\n",
      "method 1 prediction diatonic scale\n",
      "method 2 prediction Pentatonic\n",
      "score: 1903estamp2_La soirée_dans_Grenade.mid\n",
      "method 1 prediction diatonic scale\n",
      "method 2 prediction Pentatonic\n",
      "score: 1903estamp3_Jardins_sous_la_pluie.mid\n",
      "method 1 prediction diatonic scale\n",
      "method 2 prediction Pentatonic\n",
      "score: 1905estamp1_Pagodes.mid\n",
      "method 1 prediction pentatonic scale\n",
      "method 2 prediction Pentatonic\n",
      "score: 1905images_1_1_(c)oguri.mid\n",
      "method 1 prediction diatonic scale\n",
      "method 2 prediction Diatonic\n",
      "score: 1905images_1_2_(c)oguri.mid\n",
      "method 1 prediction diatonic scale\n",
      "method 2 prediction Pentatonic\n",
      "score: 1905images_1_3_(c)oguri (1).mid\n",
      "method 1 prediction diatonic scale\n",
      "method 2 prediction Diatonic\n",
      "score: 1907images_2_1_(c)galimberti.mid\n",
      "score: 1907images_2_2_(c)galimberti.mid\n",
      "method 1 prediction diatonic scale\n",
      "method 2 prediction Pentatonic\n",
      "score: 1907images_2_3_(c)galimberti.mid\n",
      "score: 1908childrens_corner_1_(c)oguri.mid\n",
      "method 1 prediction diatonic scale\n",
      "method 2 prediction Diatonic\n",
      "score: 1908childrens_corner_2_(c)oguri.mid\n",
      "method 1 prediction diatonic scale\n",
      "method 2 prediction Pentatonic\n",
      "score: 1908childrens_corner_3_(c)oguri.mid\n",
      "method 1 prediction diatonic scale\n",
      "method 2 prediction Diatonic\n",
      "score: 1908childrens_corner_4_(c)oguri.mid\n",
      "method 1 prediction diatonic scale\n",
      "method 2 prediction Diatonic\n",
      "score: 1908childrens_corner_5_(c)oguri.mid\n",
      "method 1 prediction diatonic scale\n",
      "method 2 prediction Pentatonic\n",
      "score: 1908childrens_corner_6_(c)dery.mid\n",
      "method 1 prediction diatonic scale\n",
      "method 2 prediction Diatonic\n",
      "score: 1910Prélude I - (... Danseuses de delphes).mid\n",
      "method 1 prediction diatonic scale\n",
      "method 2 prediction Pentatonic\n",
      "score: 1910Prélude II - (... Voiles).mid\n",
      "score: 1910Prélude III - (... Le vent dans la plaine).mid\n",
      "score: 1910Prélude IV - (... Les sons et les parfums tournent dans l'air du soir).mid\n",
      "score: 1910Prélude IX - (... La serenade interrompue).mid\n",
      "score: 1910Prélude V - (... Les collines d'Anacapri).mid\n",
      "method 1 prediction diatonic scale\n",
      "method 2 prediction Diatonic\n",
      "score: 1910Prélude VI - (... Des pas sur la neige).mid\n",
      "score: 1910Prélude VII.mid\n",
      "score: 1910Prélude VIII - (... La fille aux cheveux de lin).mid\n",
      "method 1 prediction diatonic scale\n",
      "method 2 prediction Diatonic\n",
      "score: 1910Prélude X - (... La cathedrale engloutie).mid\n",
      "method 1 prediction diatonic scale\n",
      "method 2 prediction Pentatonic\n",
      "score: 1910Prélude XI.mid\n",
      "score: 1910Prélude XII - (... Minstrels).mid\n",
      "method 1 prediction diatonic scale\n",
      "method 2 prediction Diatonic\n",
      "score: 1913Debussy_Prelude_Book_2_No_10_Canope.mid\n",
      "method 1 prediction diatonic scale\n",
      "method 2 prediction Pentatonic\n",
      "score: 1913Debussy_Prelude_Book_2_No_11_-_Les_tierces_alternes.mid\n",
      "method 1 prediction diatonic scale\n",
      "method 2 prediction Pentatonic\n",
      "score: 1913Debussy_Prelude_Book_2_No_12_Feux_dartifice.mid\n",
      "score: 1913Debussy_Prelude_Book_2_No_1_Brouillards.mid\n",
      "score: 1913Debussy_Prelude_Book_2_No_2_Feuilles_mortes.mid\n",
      "score: 1913Debussy_Prelude_Book_2_No_3_La_puerta_del_vino.mid\n",
      "score: 1913Debussy_Prelude_Book_2_No_4_Les_fees_sont_dexquises_danseuses.mid\n",
      "score: 1913Debussy_Prelude_Book_2_No_5_Bruyres.mid\n",
      "method 1 prediction diatonic scale\n",
      "method 2 prediction Pentatonic\n",
      "score: 1913Debussy_Prelude_Book_2_No_6_General_Lavine_-_excentric.mid\n",
      "method 1 prediction diatonic scale\n",
      "method 2 prediction Pentatonic\n",
      "score: 1913Debussy_Prelude_Book_2_No_7_La_terrasse_des_audiences_du_clair_de_lune.mid\n",
      "score: 1913Debussy_Prelude_Book_2_No_8_Ondine.mid\n",
      "score: 1913Debussy_Prelude_Book_2_No_9_Hommage_a_S._Pickwick_Esq._P._P._M._P._C.mid\n",
      "method 1 prediction diatonic scale\n",
      "method 2 prediction Diatonic\n"
     ]
    }
   ],
   "source": [
    "scores = glob('./scores/*.mid')\n",
    "\n",
    "dic_scores = {}\n",
    "for score in scores:\n",
    "    print('score:', score.split('\\\\')[-1])\n",
    "    try:\n",
    "        coeff, pred, _ = predict_penta_dia(score, aw_size=10)\n",
    "        if coeff == 5:\n",
    "            print('method 1 prediction', pred)\n",
    "            pred2,_ = predict_penta_dia_2(score)\n",
    "            print('method 2 prediction', pred2)\n",
    "            if pred == 'diatonic scale' and pred2 == 'Diatonic':\n",
    "                dic_scores[score] = pred\n",
    "            if pred == 'pentatonic scale' and pred2 == 'Pentatonic':\n",
    "                dic_scores[score] = pred\n",
    "    except:\n",
    "        print('could not read score')"
   ]
  },
  {
   "cell_type": "code",
   "execution_count": 16,
   "metadata": {
    "scrolled": true
   },
   "outputs": [
    {
     "data": {
      "text/plain": [
       "{'./scores\\\\1890Debussy_-_Suite_Bergamasque_-_I._Prelude.mid': 'diatonic scale',\n",
       " './scores\\\\1890Debussy_-_Suite_Bergamasque_-_II._Menuet.mid': 'diatonic scale',\n",
       " './scores\\\\1891premiere_arabesque.mid': 'diatonic scale',\n",
       " './scores\\\\1905estamp1_Pagodes.mid': 'pentatonic scale',\n",
       " './scores\\\\1905images_1_1_(c)oguri.mid': 'diatonic scale',\n",
       " './scores\\\\1905images_1_3_(c)oguri (1).mid': 'diatonic scale',\n",
       " './scores\\\\1908childrens_corner_1_(c)oguri.mid': 'diatonic scale',\n",
       " './scores\\\\1908childrens_corner_3_(c)oguri.mid': 'diatonic scale',\n",
       " './scores\\\\1908childrens_corner_4_(c)oguri.mid': 'diatonic scale',\n",
       " './scores\\\\1908childrens_corner_6_(c)dery.mid': 'diatonic scale',\n",
       " \"./scores\\\\1910Prélude V - (... Les collines d'Anacapri).mid\": 'diatonic scale',\n",
       " './scores\\\\1910Prélude VIII - (... La fille aux cheveux de lin).mid': 'diatonic scale',\n",
       " './scores\\\\1910Prélude XII - (... Minstrels).mid': 'diatonic scale',\n",
       " './scores\\\\1913Debussy_Prelude_Book_2_No_9_Hommage_a_S._Pickwick_Esq._P._P._M._P._C.mid': 'diatonic scale'}"
      ]
     },
     "execution_count": 16,
     "metadata": {},
     "output_type": "execute_result"
    }
   ],
   "source": [
    "dic_scores"
   ]
  },
  {
   "cell_type": "code",
   "execution_count": null,
   "metadata": {},
   "outputs": [],
   "source": []
  },
  {
   "cell_type": "markdown",
   "metadata": {},
   "source": [
    "## Interpretation\n",
    "\n",
    "Outlook on final interpretation\n",
    "\n",
    "Interpreting your results is the final step that you will do in preparing Milestone 4 (your presentations). Please end your submission by giving a first,preliminary outlook on this final step: what aspects of your results do you find interesting with respect to your hypotheses and previous literature? What do you think might be the main points to elaborate upon in the discussion?"
   ]
  },
  {
   "cell_type": "code",
   "execution_count": null,
   "metadata": {},
   "outputs": [],
   "source": []
  },
  {
   "cell_type": "markdown",
   "metadata": {},
   "source": [
    "- General Points\n",
    "\n",
    "The notebook should be complete and self-contained.\n",
    "\n",
    "All processing and analysis steps must be explained.\n",
    "\n",
    "Someone else should be able to reproduce the results based on your explanations without seeing the code.\n",
    "\n",
    "Unused code and analyses should not be included.\n",
    "\n",
    "- Useful Utilities\n",
    "\n",
    "This notebook extension lets you easily create a Table of Contents and automatically deals with your heading numbering (not available for Jupyter Lab, only Notebook): https://jupyter-contrib-nbextensions.readthedocs.io/en/latest/nbextensions/toc2/README.html \n",
    "\n",
    "Display the notebook online including JavaScript (e.g., in interactive plots), you can use https://nbviewer.jupyter.org/\n",
    "\n",
    "If you’re interested, you can use this code in your notebook to toggle the display of source code on and off: https://stackoverflow.com/questions/27934885/how-to-hide-code-from-cells-in-ipython-notebook-visualized-with-nbviewer"
   ]
  },
  {
   "cell_type": "code",
   "execution_count": null,
   "metadata": {},
   "outputs": [],
   "source": []
  }
 ],
 "metadata": {
  "kernelspec": {
   "display_name": "Python 3",
   "language": "python",
   "name": "python3"
  },
  "language_info": {
   "codemirror_mode": {
    "name": "ipython",
    "version": 3
   },
   "file_extension": ".py",
   "mimetype": "text/x-python",
   "name": "python",
   "nbconvert_exporter": "python",
   "pygments_lexer": "ipython3",
   "version": "3.8.5"
  }
 },
 "nbformat": 4,
 "nbformat_minor": 4
}
