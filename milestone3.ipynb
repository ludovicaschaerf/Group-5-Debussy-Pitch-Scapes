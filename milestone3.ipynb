{
 "cells": [
  {
   "cell_type": "markdown",
   "metadata": {},
   "source": [
    "# Milestone 3: Results\n",
    "### On Tonal ambiguity and harmonic structure in Debussy’s piano music\n",
    "#### By Ludovica Schaerf, Sabrina Laneve , Yuanhui Lin, Raphael Levier.\n",
    "\n",
    "The notebook is articulated as follows:\n",
    "1. [Precision of Research Question](#Research-Question)\n",
    "2. [Refinement of Methods](#Methods)\n",
    "3. [Presentation of final results](#Final-Results)\n",
    "4. [Outlook on final interpretation](#Interpretation)"
   ]
  },
  {
   "cell_type": "markdown",
   "metadata": {},
   "source": [
    "## Research Question\n",
    "\n",
    "\n",
    "Precision of Research Question:\n",
    "\n",
    "State the final version of your research question as you understand it now.\n",
    "\n",
    "Make all assumptions and hypotheses explicit.\n",
    "\n",
    "In case Milestone 2 did not include the final data representation that you are analyzing, present the representation you finally used and the necessary steps to get to it."
   ]
  },
  {
   "cell_type": "code",
   "execution_count": null,
   "metadata": {},
   "outputs": [],
   "source": []
  },
  {
   "cell_type": "markdown",
   "metadata": {},
   "source": [
    "## Methods\n",
    "\n",
    "Refinement of Methods\n",
    "\n",
    "How did you deal with the problems you mentioned in Milestone 3?\n",
    "\n",
    "Which methods did you use to obtain the final results? Provide self-contained explanations and make sure to cite relevant literature where appropriate.\n",
    "\n",
    "Explain your core calculations using equations.\n",
    "\n",
    "Do not describe all the methods you tried out but only those that lead to the results: the final analysis is not an exploratory analysis anymore.\n",
    "\n",
    "Specify any adjustments you made to pre-existing methods."
   ]
  },
  {
   "cell_type": "code",
   "execution_count": null,
   "metadata": {},
   "outputs": [],
   "source": []
  },
  {
   "cell_type": "markdown",
   "metadata": {},
   "source": [
    "## Final Results\n",
    "\n",
    "Presentation of final results\n",
    "\n",
    "Present your results in relation to your research question.\n",
    "\n",
    "Present them in a logical order that does not have to be the order in which you achieved them."
   ]
  },
  {
   "cell_type": "code",
   "execution_count": null,
   "metadata": {},
   "outputs": [],
   "source": []
  },
  {
   "cell_type": "markdown",
   "metadata": {},
   "source": [
    "## Interpretation\n",
    "\n",
    "Outlook on final interpretation\n",
    "\n",
    "Interpreting your results is the final step that you will do in preparing Milestone 4 (your presentations). Please end your submission by giving a first,preliminary outlook on this final step: what aspects of your results do you find interesting with respect to your hypotheses and previous literature? What do you think might be the main points to elaborate upon in the discussion?"
   ]
  },
  {
   "cell_type": "code",
   "execution_count": null,
   "metadata": {},
   "outputs": [],
   "source": []
  },
  {
   "cell_type": "markdown",
   "metadata": {},
   "source": [
    "- General Points\n",
    "\n",
    "The notebook should be complete and self-contained.\n",
    "\n",
    "All processing and analysis steps must be explained.\n",
    "\n",
    "Someone else should be able to reproduce the results based on your explanations without seeing the code.\n",
    "\n",
    "Unused code and analyses should not be included.\n",
    "\n",
    "- Useful Utilities\n",
    "\n",
    "This notebook extension lets you easily create a Table of Contents and automatically deals with your heading numbering (not available for Jupyter Lab, only Notebook): https://jupyter-contrib-nbextensions.readthedocs.io/en/latest/nbextensions/toc2/README.html \n",
    "\n",
    "Display the notebook online including JavaScript (e.g., in interactive plots), you can use https://nbviewer.jupyter.org/\n",
    "\n",
    "If you’re interested, you can use this code in your notebook to toggle the display of source code on and off: https://stackoverflow.com/questions/27934885/how-to-hide-code-from-cells-in-ipython-notebook-visualized-with-nbviewer"
   ]
  },
  {
   "cell_type": "code",
   "execution_count": null,
   "metadata": {},
   "outputs": [],
   "source": []
  }
 ],
 "metadata": {
  "kernelspec": {
   "display_name": "Python 3",
   "language": "python",
   "name": "python3"
  },
  "language_info": {
   "codemirror_mode": {
    "name": "ipython",
    "version": 3
   },
   "file_extension": ".py",
   "mimetype": "text/x-python",
   "name": "python",
   "nbconvert_exporter": "python",
   "pygments_lexer": "ipython3",
   "version": "3.8.5"
  }
 },
 "nbformat": 4,
 "nbformat_minor": 4
}
