{
 "cells": [
  {
   "cell_type": "markdown",
   "metadata": {},
   "source": [
    "# Milestone 2: Data collection, preprocessing, exploratory analysis\n",
    "### On Tonal ambiguity and harmonic structure in Debussy’s piano music\n",
    "#### By Ludovica Schaerf, Sabrina Laneve , Yuanhui Lin, Raphael Levier.\n",
    "\n",
    "The notebook is articulated as follows:\n",
    "1. [Gathering the data](#Gathering-the-data)\n",
    "2. [Data format](#Data-format)\n",
    "3. [Exploratory analysis](#Exploratory-analysis)"
   ]
  },
  {
   "cell_type": "markdown",
   "metadata": {},
   "source": [
    "### Gathering the data\n",
    "\n",
    "Here you can show that you understand your data and know how to use it. You can be brief in your answers. Section 1 may be supported with informative plots.\n",
    "-\tDescribe the dataset you selected and the information represented in it.\n",
    "-\tBased on your research question(s), why did you select this dataset?\n",
    "-\tWhat aspects of the researched phenomena does the data (not) represent?\n",
    "-\tWhere did you get your data from?\n",
    "-\tHow did you get it?\n",
    "-\tWhat is the maximum available amount in theory (in the case of incomplete data acquisition)?\n",
    "-   If working on partial data, how representative is your sample for the full dataset?\n"
   ]
  },
  {
   "cell_type": "markdown",
   "metadata": {},
   "source": [
    "### Data format\n",
    "\n",
    "This section and the following are the main reason why this milestone is to be delivered in a Jupyter notebook: Give insightful examples for each one of the following questions by loading and transforming data samples.\n",
    "-\tWhat format(s) does the raw data come in?\n",
    "-\tHow is the information that the dataset represents encoded in this format?\n",
    "-\tLoad your dataset and show examples of how you access the information that you are interested in.\n",
    "-\tGive an overview of your dataset by plotting some basic statistics of the relevant features and/or metadata.\n"
   ]
  },
  {
   "cell_type": "markdown",
   "metadata": {},
   "source": [
    "### Exploratory analysis\n",
    "\n",
    "Perform an exploratory analysis on your data. In this section of your report please address the following points:\n",
    "-\tWhich analyses or experiments did you perform as part of your exploratory analysis of the data and what are the results? Choose suitable visualizations to show your results.\n",
    "-\tHow do the results relate to your hypotheses?\n",
    "-\tDid you find interesting or unexpected things? How do they influence the development of your project?\n",
    "-\tWhat are problems that you encountered? How could you plan to deal with them?\n",
    "-\tDiscuss how the data enables you to answer your research question(s).\n",
    "-\tFormulate educated guesses on your outcomes based on this data.\n",
    "-\tReflect on how, at the end of the analysis, you will be able to tell whether these outcomes have manifested or not and how confident you will possibly be about this assessment.\n",
    "\n"
   ]
  },
  {
   "cell_type": "code",
   "execution_count": null,
   "metadata": {},
   "outputs": [],
   "source": [
    "from wavescapes import *\n",
    "from matplotlib import pyplot as plt\n",
    "\n",
    "# transforms the MIDI Files into a list of pitch class distribution, each corresponding to a slice of one quarter note from the file.\n",
    "pc_mat = produce_pitch_class_matrix_from_filename(filepath = 'etude_01_(c)lefeldt.mid', aw_size = 0.6)\n",
    "\n",
    "# the DFT is applied to each of the pitch class distribution\n",
    "fourier_mat = apply_dft_to_pitch_class_matrix(pc_mat)\n",
    "\n",
    "# only the third Fourier coefficient is kept from the previous result and the matrix holding all color coded measurement is built\n",
    "coeff_mat = complex_utm_to_ws_utm(fourier_mat, coeff=3)\n",
    "\n",
    "# an instance of a class that allows the drawing of the previous matrix of colors is produced with the resolution being indicated as 500 pixels in width.\n",
    "ws = Wavescape(coeff_mat, pixel_width=500)\n",
    "\n",
    "# this draw the plot as an matplotlib figure. If called on a noteboot, this will display the figure at the end of the cell.\n",
    "ws.draw(tick_ratio=4)\n",
    "\n",
    "# saves the figure drawn as PNG image.\n",
    "plt.savefig('3rd_coeff_wavescape.png')"
   ]
  },
  {
   "cell_type": "code",
   "execution_count": null,
   "metadata": {},
   "outputs": [],
   "source": []
  }
 ],
 "metadata": {
  "kernelspec": {
   "display_name": "Python 3",
   "language": "python",
   "name": "python3"
  },
  "language_info": {
   "codemirror_mode": {
    "name": "ipython",
    "version": 3
   },
   "file_extension": ".py",
   "mimetype": "text/x-python",
   "name": "python",
   "nbconvert_exporter": "python",
   "pygments_lexer": "ipython3",
   "version": "3.8.5"
  }
 },
 "nbformat": 4,
 "nbformat_minor": 4
}
